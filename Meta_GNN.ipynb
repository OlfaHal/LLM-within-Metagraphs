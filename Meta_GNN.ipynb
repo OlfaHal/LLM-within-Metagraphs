{
  "nbformat": 4,
  "nbformat_minor": 0,
  "metadata": {
    "colab": {
      "provenance": [],
      "authorship_tag": "ABX9TyPzIxpnhlJ3g6eAOqy8zHMb",
      "include_colab_link": true
    },
    "kernelspec": {
      "name": "python3",
      "display_name": "Python 3"
    },
    "language_info": {
      "name": "python"
    }
  },
  "cells": [
    {
      "cell_type": "markdown",
      "metadata": {
        "id": "view-in-github",
        "colab_type": "text"
      },
      "source": [
        "<a href=\"https://colab.research.google.com/github/OlfaHal/LLM-within-Metagraphs/blob/main/Meta_GNN.ipynb\" target=\"_parent\"><img src=\"https://colab.research.google.com/assets/colab-badge.svg\" alt=\"Open In Colab\"/></a>"
      ]
    },
    {
      "cell_type": "code",
      "execution_count": 1,
      "metadata": {
        "colab": {
          "base_uri": "https://localhost:8080/"
        },
        "id": "dCdTHdOjL6rz",
        "outputId": "48983af0-6b46-4d9a-d4b8-1fbe21f0f44d"
      },
      "outputs": [
        {
          "output_type": "stream",
          "name": "stdout",
          "text": [
            "Cloning into 'Meta-GNN'...\n",
            "remote: Enumerating objects: 76, done.\u001b[K\n",
            "remote: Counting objects: 100% (23/23), done.\u001b[K\n",
            "remote: Compressing objects: 100% (22/22), done.\u001b[K\n",
            "remote: Total 76 (delta 3), reused 14 (delta 1), pack-reused 53\u001b[K\n",
            "Receiving objects: 100% (76/76), 3.86 MiB | 4.36 MiB/s, done.\n",
            "Resolving deltas: 100% (10/10), done.\n"
          ]
        }
      ],
      "source": [
        "!git clone https://github.com/aravindsankar28/Meta-GNN.git"
      ]
    },
    {
      "cell_type": "code",
      "source": [
        "import os\n",
        "os.chdir('/content/Meta-GNN/vflib')"
      ],
      "metadata": {
        "id": "hvCrIoSoPRcL"
      },
      "execution_count": 1,
      "outputs": []
    },
    {
      "cell_type": "code",
      "source": [
        "!pwd"
      ],
      "metadata": {
        "colab": {
          "base_uri": "https://localhost:8080/"
        },
        "id": "EOEdynHgPU6J",
        "outputId": "9b23d9b5-b62c-45fc-9977-f5d906229ce3"
      },
      "execution_count": 2,
      "outputs": [
        {
          "output_type": "stream",
          "name": "stdout",
          "text": [
            "/content/Meta-GNN/vflib\n"
          ]
        }
      ]
    },
    {
      "cell_type": "code",
      "source": [
        "!cmake .\n",
        "!make"
      ],
      "metadata": {
        "colab": {
          "base_uri": "https://localhost:8080/"
        },
        "id": "vCrjysfiOGqa",
        "outputId": "4efcb299-212a-401f-8d7b-4bde4df52df7"
      },
      "execution_count": 3,
      "outputs": [
        {
          "output_type": "stream",
          "name": "stdout",
          "text": [
            "-- Configuring done (0.0s)\n",
            "-- Generating done (0.0s)\n",
            "-- Build files have been written to: /content/Meta-GNN/vflib\n",
            "[100%] Built target vflib_3_0_1\n"
          ]
        }
      ]
    },
    {
      "cell_type": "code",
      "source": [
        "os.chdir('/content/Meta-GNN/motif-cnn')"
      ],
      "metadata": {
        "id": "KVxDN7gGOZoJ"
      },
      "execution_count": 4,
      "outputs": []
    },
    {
      "cell_type": "code",
      "source": [
        "!python train.py"
      ],
      "metadata": {
        "colab": {
          "base_uri": "https://localhost:8080/"
        },
        "id": "Y76VMcP1PlAP",
        "outputId": "3be5f634-49c6-4917-ba69-454ca0a99f0f"
      },
      "execution_count": 5,
      "outputs": [
        {
          "output_type": "stream",
          "name": "stdout",
          "text": [
            "2024-07-09 18:04:14.322922: E external/local_xla/xla/stream_executor/cuda/cuda_dnn.cc:9261] Unable to register cuDNN factory: Attempting to register factory for plugin cuDNN when one has already been registered\n",
            "2024-07-09 18:04:14.323054: E external/local_xla/xla/stream_executor/cuda/cuda_fft.cc:607] Unable to register cuFFT factory: Attempting to register factory for plugin cuFFT when one has already been registered\n",
            "2024-07-09 18:04:14.325532: E external/local_xla/xla/stream_executor/cuda/cuda_blas.cc:1515] Unable to register cuBLAS factory: Attempting to register factory for plugin cuBLAS when one has already been registered\n",
            "2024-07-09 18:04:14.371051: I tensorflow/core/platform/cpu_feature_guard.cc:182] This TensorFlow binary is optimized to use available CPU instructions in performance-critical operations.\n",
            "To enable the following instructions: AVX2 FMA, in other operations, rebuild TensorFlow with the appropriate compiler flags.\n",
            "2024-07-09 18:04:17.448761: W tensorflow/compiler/tf2tensorrt/utils/py_utils.cc:38] TF-TRT Warning: Could not find TensorRT\n",
            "Load dblp-p dataset\n",
            "Traceback (most recent call last):\n",
            "  File \"/content/Meta-GNN/motif-cnn/utils.py\", line 118, in load_data\n",
            "    features = pkl.load(f)\n",
            "UnicodeDecodeError: 'ascii' codec can't decode byte 0x90 in position 4: ordinal not in range(128)\n",
            "\n",
            "During handling of the above exception, another exception occurred:\n",
            "\n",
            "Traceback (most recent call last):\n",
            "  File \"/content/Meta-GNN/motif-cnn/train.py\", line 49, in <module>\n",
            "    load_data(FLAGS.dataset, motif_types, load_ind=True, calc_motif=FLAGS.calc_motif, motif_def=FLAGS.motif_def)\n",
            "  File \"/content/Meta-GNN/motif-cnn/utils.py\", line 120, in load_data\n",
            "    features = pkl.load(f, encoding='latin-1')\n",
            "_pickle.UnpicklingError: could not find MARK\n"
          ]
        }
      ]
    }
  ]
}