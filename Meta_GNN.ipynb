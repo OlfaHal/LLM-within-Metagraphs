{
  "nbformat": 4,
  "nbformat_minor": 0,
  "metadata": {
    "colab": {
      "provenance": [],
      "authorship_tag": "ABX9TyNFNPGGhsCbA1IzMQ1flRlm",
      "include_colab_link": true
    },
    "kernelspec": {
      "name": "python3",
      "display_name": "Python 3"
    },
    "language_info": {
      "name": "python"
    }
  },
  "cells": [
    {
      "cell_type": "markdown",
      "metadata": {
        "id": "view-in-github",
        "colab_type": "text"
      },
      "source": [
        "<a href=\"https://colab.research.google.com/github/OlfaHal/LLM-within-Metagraphs/blob/main/Meta_GNN.ipynb\" target=\"_parent\"><img src=\"https://colab.research.google.com/assets/colab-badge.svg\" alt=\"Open In Colab\"/></a>"
      ]
    },
    {
      "cell_type": "code",
      "execution_count": 1,
      "metadata": {
        "colab": {
          "base_uri": "https://localhost:8080/"
        },
        "id": "dCdTHdOjL6rz",
        "outputId": "ea8f6950-3e01-44c6-ef47-cb0469969432"
      },
      "outputs": [
        {
          "output_type": "stream",
          "name": "stdout",
          "text": [
            "Cloning into 'LLM-within-Metagraphs'...\n",
            "remote: Enumerating objects: 73, done.\u001b[K\n",
            "remote: Counting objects: 100% (73/73), done.\u001b[K\n",
            "remote: Compressing objects: 100% (70/70), done.\u001b[K\n",
            "remote: Total 73 (delta 15), reused 0 (delta 0), pack-reused 0\u001b[K\n",
            "Receiving objects: 100% (73/73), 4.00 MiB | 3.01 MiB/s, done.\n",
            "Resolving deltas: 100% (15/15), done.\n"
          ]
        }
      ],
      "source": [
        "!git clone https://github.com/OlfaHal/LLM-within-Metagraphs.git"
      ]
    },
    {
      "cell_type": "code",
      "source": [
        "import os\n",
        "os.chdir('/content/LLM-within-Metagraphs/vflib')"
      ],
      "metadata": {
        "id": "hvCrIoSoPRcL"
      },
      "execution_count": 7,
      "outputs": []
    },
    {
      "cell_type": "code",
      "source": [
        "!pwd"
      ],
      "metadata": {
        "colab": {
          "base_uri": "https://localhost:8080/"
        },
        "id": "EOEdynHgPU6J",
        "outputId": "3b239836-2964-42c0-bc4f-829ff9795e0f"
      },
      "execution_count": 8,
      "outputs": [
        {
          "output_type": "stream",
          "name": "stdout",
          "text": [
            "/content/LLM-within-Metagraphs/vflib\n"
          ]
        }
      ]
    },
    {
      "cell_type": "code",
      "source": [
        "!cmake .\n",
        "!make"
      ],
      "metadata": {
        "colab": {
          "base_uri": "https://localhost:8080/"
        },
        "id": "vCrjysfiOGqa",
        "outputId": "6995091c-962d-4d6d-b7e3-993625e8dc93"
      },
      "execution_count": 9,
      "outputs": [
        {
          "output_type": "stream",
          "name": "stdout",
          "text": [
            "-- The C compiler identification is GNU 11.4.0\n",
            "-- The CXX compiler identification is GNU 11.4.0\n",
            "-- Detecting C compiler ABI info\n",
            "-- Detecting C compiler ABI info - done\n",
            "-- Check for working C compiler: /usr/bin/cc - skipped\n",
            "-- Detecting C compile features\n",
            "-- Detecting C compile features - done\n",
            "-- Detecting CXX compiler ABI info\n",
            "-- Detecting CXX compiler ABI info - done\n",
            "-- Check for working CXX compiler: /usr/bin/c++ - skipped\n",
            "-- Detecting CXX compile features\n",
            "-- Detecting CXX compile features - done\n",
            "-- Configuring done (0.5s)\n",
            "-- Generating done (0.0s)\n",
            "-- Build files have been written to: /content/LLM-within-Metagraphs/vflib\n",
            "[ 50%] \u001b[32mBuilding CXX object CMakeFiles/vflib_3_0_1.dir/src/main.cpp.o\u001b[0m\n",
            "In file included from \u001b[01m\u001b[K/usr/include/c++/11/backward/strstream:50\u001b[m\u001b[K,\n",
            "                 from \u001b[01m\u001b[K/content/LLM-within-Metagraphs/vflib/src/../include/argloader.hpp:29\u001b[m\u001b[K,\n",
            "                 from \u001b[01m\u001b[K/content/LLM-within-Metagraphs/vflib/src/main.cpp:11\u001b[m\u001b[K:\n",
            "\u001b[01m\u001b[K/usr/include/c++/11/backward/backward_warning.h:32:2:\u001b[m\u001b[K \u001b[01;35m\u001b[Kwarning: \u001b[m\u001b[K#warning This file includes at least one deprecated or antiquated header which may be removed without further notice at a future date. Please use a non-deprecated interface with equivalent functionality instead. For a listing of replacement headers and interfaces, consult the file backward_warning.h. To disable this warning use -Wno-deprecated. [\u001b[01;35m\u001b[K\u001b]8;;https://gcc.gnu.org/onlinedocs/gcc/Warning-Options.html#index-Wcpp\u0007-Wcpp\u001b]8;;\u0007\u001b[m\u001b[K]\n",
            "   32 | #\u001b[01;35m\u001b[Kwarning\u001b[m\u001b[K \\\n",
            "      |  \u001b[01;35m\u001b[K^~~~~~~\u001b[m\u001b[K\n",
            "[100%] \u001b[32m\u001b[1mLinking CXX executable vflib_3_0_1\u001b[0m\n",
            "[100%] Built target vflib_3_0_1\n"
          ]
        }
      ]
    },
    {
      "cell_type": "code",
      "source": [
        "os.chdir('/content/LLM-within-Metagraphs/motif-cnn')"
      ],
      "metadata": {
        "id": "KVxDN7gGOZoJ"
      },
      "execution_count": 10,
      "outputs": []
    },
    {
      "cell_type": "code",
      "source": [
        "!python train.py"
      ],
      "metadata": {
        "colab": {
          "base_uri": "https://localhost:8080/"
        },
        "id": "Y76VMcP1PlAP",
        "outputId": "68c9c77d-4b99-4acd-c62e-ee38b351ec5e"
      },
      "execution_count": 11,
      "outputs": [
        {
          "output_type": "stream",
          "name": "stdout",
          "text": [
            "2024-07-09 18:28:36.922188: E external/local_xla/xla/stream_executor/cuda/cuda_dnn.cc:9261] Unable to register cuDNN factory: Attempting to register factory for plugin cuDNN when one has already been registered\n",
            "2024-07-09 18:28:36.922254: E external/local_xla/xla/stream_executor/cuda/cuda_fft.cc:607] Unable to register cuFFT factory: Attempting to register factory for plugin cuFFT when one has already been registered\n",
            "2024-07-09 18:28:36.923940: E external/local_xla/xla/stream_executor/cuda/cuda_blas.cc:1515] Unable to register cuBLAS factory: Attempting to register factory for plugin cuBLAS when one has already been registered\n",
            "2024-07-09 18:28:36.934975: I tensorflow/core/platform/cpu_feature_guard.cc:182] This TensorFlow binary is optimized to use available CPU instructions in performance-critical operations.\n",
            "To enable the following instructions: AVX2 FMA, in other operations, rebuild TensorFlow with the appropriate compiler flags.\n",
            "2024-07-09 18:28:38.287705: W tensorflow/compiler/tf2tensorrt/utils/py_utils.cc:38] TF-TRT Warning: Could not find TensorRT\n",
            "Load dblp-p dataset\n",
            "Traceback (most recent call last):\n",
            "  File \"/content/LLM-within-Metagraphs/motif-cnn/utils.py\", line 118, in load_data\n",
            "    features = pkl.load(f)\n",
            "UnicodeDecodeError: 'ascii' codec can't decode byte 0x90 in position 4: ordinal not in range(128)\n",
            "\n",
            "During handling of the above exception, another exception occurred:\n",
            "\n",
            "Traceback (most recent call last):\n",
            "  File \"/content/LLM-within-Metagraphs/motif-cnn/train.py\", line 49, in <module>\n",
            "    load_data(FLAGS.dataset, motif_types, load_ind=True, calc_motif=FLAGS.calc_motif, motif_def=FLAGS.motif_def)\n",
            "  File \"/content/LLM-within-Metagraphs/motif-cnn/utils.py\", line 120, in load_data\n",
            "    features = pkl.load(f, encoding='latin-1')\n",
            "_pickle.UnpicklingError: could not find MARK\n"
          ]
        }
      ]
    }
  ]
}